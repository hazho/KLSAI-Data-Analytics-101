{
 "cells": [
  {
   "cell_type": "code",
   "execution_count": null,
   "metadata": {
    "collapsed": true
   },
   "outputs": [],
   "source": [
    "import pandas as pd\n",
    "import numpy as np"
   ]
  },
  {
   "cell_type": "code",
   "execution_count": null,
   "metadata": {
    "collapsed": true,
    "scrolled": true
   },
   "outputs": [],
   "source": [
    " # check current directory \n"
   ]
  },
  {
   "cell_type": "code",
   "execution_count": null,
   "metadata": {},
   "outputs": [],
   "source": [
    "pwd"
   ]
  },
  {
   "cell_type": "code",
   "execution_count": null,
   "metadata": {},
   "outputs": [],
   "source": [
    "# read header row and remove bottom rows\n",
    "imp = pd.read_csv('56-malaysias-import-sources.csv', encoding ='iso-8859-1', header = 2,skipfooter=2 )"
   ]
  },
  {
   "cell_type": "code",
   "execution_count": null,
   "metadata": {
    "collapsed": true
   },
   "outputs": [],
   "source": [
    "# shift tab to see the suggestion\n",
    "# tab to autofill"
   ]
  },
  {
   "cell_type": "code",
   "execution_count": null,
   "metadata": {},
   "outputs": [],
   "source": [
    "# rename columns to remove \\xa0 already know it is in USD just put Import\n",
    "imp.columns = ['Year', 'Month', 'Country', 'Country Code','Import'] \n",
    "# replace annoying characters with space\n",
    "imp = imp.replace({'\\xa0': ' '}, regex=True) \n",
    "# placing NAM in Country Code \n",
    "imp.loc[imp['Country'] == \"NAMIBIA\", 'Country Code'] = \"NAM\" \n",
    "# importing numbers\n",
    "imp['Import'] = imp['Import'].replace({',': ''}, regex=True) \n",
    "imp['Import'] = imp['Import'].apply(int)"
   ]
  },
  {
   "cell_type": "code",
   "execution_count": null,
   "metadata": {},
   "outputs": [],
   "source": [
    "# check top dataset \n",
    "imp.head()"
   ]
  },
  {
   "cell_type": "code",
   "execution_count": null,
   "metadata": {},
   "outputs": [],
   "source": [
    "# check bottom of dataset\n",
    "imp.tail()"
   ]
  },
  {
   "cell_type": "code",
   "execution_count": null,
   "metadata": {},
   "outputs": [],
   "source": [
    "# information on dataset\n",
    "imp.info()"
   ]
  },
  {
   "cell_type": "code",
   "execution_count": null,
   "metadata": {},
   "outputs": [],
   "source": [
    "# checking if there are null values in the dataset\n",
    "imp.isnull().values.any() "
   ]
  },
  {
   "cell_type": "code",
   "execution_count": null,
   "metadata": {
    "scrolled": true
   },
   "outputs": [],
   "source": [
    "# obtain rows which have imports\n",
    "imp[imp['Import'] != 0 ]"
   ]
  },
  {
   "cell_type": "code",
   "execution_count": null,
   "metadata": {},
   "outputs": [],
   "source": [
    " # number of countries/Areas where Malaysia imports\n",
    "len(imp[imp['Import'] != 0 ] [\"Country\"].unique())"
   ]
  },
  {
   "cell_type": "code",
   "execution_count": null,
   "metadata": {},
   "outputs": [],
   "source": [
    "# number of countries/Areas in total\n",
    "len(imp['Country'].unique()) "
   ]
  },
  {
   "cell_type": "code",
   "execution_count": null,
   "metadata": {},
   "outputs": [],
   "source": [
    "# load export dataset\n",
    "exp = pd.read_csv('55-malaysias-export-destination.csv', encoding ='iso-8859-1', header = 2,skipfooter=2 )"
   ]
  },
  {
   "cell_type": "code",
   "execution_count": null,
   "metadata": {
    "collapsed": true
   },
   "outputs": [],
   "source": [
    "# rename columns to remove \\xa0\n",
    "exp.columns = ['Year', 'Month', 'Country', 'Country Code','Export'] \n",
    "# replace annoying characters with space\n",
    "exp = exp.replace({'\\xa0': ' '}, regex=True) \n",
    "# placing NAM in Country Code \n",
    "exp.loc[exp['Country'] == \"NAMIBIA\", 'Country Code'] = \"NAM\" \n",
    "# exporting numbers\n",
    "exp['Export'] = exp['Export'].replace({',': ''}, regex=True) \n",
    "exp['Export'] = exp['Export'].apply(int)"
   ]
  },
  {
   "cell_type": "code",
   "execution_count": null,
   "metadata": {},
   "outputs": [],
   "source": [
    "len(exp)"
   ]
  },
  {
   "cell_type": "code",
   "execution_count": null,
   "metadata": {},
   "outputs": [],
   "source": [
    "len(imp)"
   ]
  },
  {
   "cell_type": "code",
   "execution_count": null,
   "metadata": {},
   "outputs": [],
   "source": [
    "exp.head()"
   ]
  },
  {
   "cell_type": "code",
   "execution_count": null,
   "metadata": {
    "collapsed": true
   },
   "outputs": [],
   "source": [
    "# export - import is balance of trade"
   ]
  },
  {
   "cell_type": "code",
   "execution_count": null,
   "metadata": {
    "collapsed": true
   },
   "outputs": [],
   "source": [
    "# drop multiple columns because you want to combine "
   ]
  },
  {
   "cell_type": "code",
   "execution_count": null,
   "metadata": {
    "collapsed": true
   },
   "outputs": [],
   "source": [
    "col_exp = ['Month', 'Country', 'Export']\n",
    "\n",
    "slim_exp = exp[col_exp]"
   ]
  },
  {
   "cell_type": "code",
   "execution_count": null,
   "metadata": {},
   "outputs": [],
   "source": [
    "slim_exp.head()"
   ]
  },
  {
   "cell_type": "code",
   "execution_count": null,
   "metadata": {
    "collapsed": true
   },
   "outputs": [],
   "source": [
    "# columns that you want to keep\n",
    "col_imp = ['Import']"
   ]
  },
  {
   "cell_type": "code",
   "execution_count": null,
   "metadata": {
    "collapsed": true
   },
   "outputs": [],
   "source": [
    "# obtain new dataset from these columns\n",
    "slim_imp = imp[col_imp]\n"
   ]
  },
  {
   "cell_type": "code",
   "execution_count": null,
   "metadata": {
    "collapsed": true
   },
   "outputs": [],
   "source": [
    "pd.merge?"
   ]
  },
  {
   "cell_type": "markdown",
   "metadata": {},
   "source": [
    "![](http://www.dofactory.com/Images/sql-joins.png)"
   ]
  },
  {
   "cell_type": "code",
   "execution_count": null,
   "metadata": {},
   "outputs": [],
   "source": [
    "#combining datasets\n",
    "pd.merge(slim_exp, slim_imp, how='inner', left_index=True, right_index=True)"
   ]
  },
  {
   "cell_type": "code",
   "execution_count": null,
   "metadata": {
    "collapsed": true
   },
   "outputs": [],
   "source": [
    "# assigning combined dataset to a variable\n",
    "exp_imp = pd.merge(slim_exp, slim_imp, how='inner', left_index=True, right_index=True)#all"
   ]
  },
  {
   "cell_type": "code",
   "execution_count": null,
   "metadata": {
    "collapsed": true
   },
   "outputs": [],
   "source": [
    "# Balance of Trade\n",
    "exp_imp['BOT'] = exp_imp['Export'] - exp_imp['Import']"
   ]
  },
  {
   "cell_type": "code",
   "execution_count": null,
   "metadata": {},
   "outputs": [],
   "source": [
    "# checking dataset\n",
    "exp_imp"
   ]
  },
  {
   "cell_type": "code",
   "execution_count": null,
   "metadata": {},
   "outputs": [],
   "source": [
    "exp_imp.loc[exp_imp[\"BOT\"].idxmax()]"
   ]
  },
  {
   "cell_type": "code",
   "execution_count": null,
   "metadata": {},
   "outputs": [],
   "source": [
    "exp_imp.loc[exp_imp[\"BOT\"].idxmin()]"
   ]
  },
  {
   "cell_type": "code",
   "execution_count": null,
   "metadata": {
    "collapsed": true
   },
   "outputs": [],
   "source": [
    "# filter and obtain only that of singapore\n",
    "singapore = exp_imp[exp_imp['Country'] == \"REPUBLIC OF SINGAPORE\"]\n",
    "# get months data \n",
    "Months = singapore['Month'].values\n",
    "# get import export values \n",
    "sing_exp = singapore['Export']\n",
    "sing_imp = singapore['Import']"
   ]
  },
  {
   "cell_type": "code",
   "execution_count": null,
   "metadata": {
    "collapsed": true
   },
   "outputs": [],
   "source": [
    "# plotting graphs"
   ]
  },
  {
   "cell_type": "code",
   "execution_count": null,
   "metadata": {
    "collapsed": true
   },
   "outputs": [],
   "source": [
    "# import matplotlib as plt for plotting graphs \n",
    "\n",
    "import matplotlib.pyplot as plt "
   ]
  },
  {
   "cell_type": "code",
   "execution_count": null,
   "metadata": {},
   "outputs": [],
   "source": [
    "# check values\n",
    "sing_exp"
   ]
  },
  {
   "cell_type": "code",
   "execution_count": null,
   "metadata": {},
   "outputs": [],
   "source": [
    "# Compare between maximum export per month and total export for singapore\n",
    "\n",
    "# plot graphs accordingly using colours\n",
    "# devide by 1e9 to make it billion\n",
    "\n",
    "# https://matplotlib.org/api/markers_api.html \n",
    "\n",
    "plt.plot(Months,sing_exp/1e9, 'r*-')\n",
    "plt.plot(Months, sing_imp/1e9, 'b.-')\n",
    "\n",
    "# assign values of xtics to that of months or else it wont \n",
    "# show per date \n",
    "xticks = [Months]\n",
    "\n",
    "plt.xticks(Months)\n",
    "\n",
    "# plot the legend of the graph \n",
    "plt.legend(loc=5)\n",
    "# label x-axis \n",
    "plt.xlabel('Month')\n",
    "plt.ylabel('USD (Billion)')\n",
    "plt.title('Total Import Export per Month Singapore')\n",
    "plt.show()"
   ]
  },
  {
   "cell_type": "code",
   "execution_count": null,
   "metadata": {
    "collapsed": true
   },
   "outputs": [],
   "source": [
    "# groupby data "
   ]
  },
  {
   "cell_type": "code",
   "execution_count": null,
   "metadata": {
    "collapsed": true
   },
   "outputs": [],
   "source": [
    "# this groups the data by country and sums the other columns \n",
    "group_countries = exp_imp.groupby(['Country']).sum()"
   ]
  },
  {
   "cell_type": "code",
   "execution_count": null,
   "metadata": {},
   "outputs": [],
   "source": [
    "# view the columns in the dataset\n",
    "list(group_countries)"
   ]
  },
  {
   "cell_type": "code",
   "execution_count": null,
   "metadata": {},
   "outputs": [],
   "source": [
    "# view dataset \n",
    "group_countries"
   ]
  },
  {
   "cell_type": "code",
   "execution_count": null,
   "metadata": {},
   "outputs": [],
   "source": [
    "# delete the month column from the dataset\n",
    "del group_countries['Month']\n"
   ]
  },
  {
   "cell_type": "code",
   "execution_count": null,
   "metadata": {},
   "outputs": [],
   "source": [
    "# sort by values \"ascending\" \n",
    "group_countries.sort_values('BOT')\n"
   ]
  },
  {
   "cell_type": "code",
   "execution_count": null,
   "metadata": {},
   "outputs": [],
   "source": [
    "# view country Hong Kong Data \n",
    "group_countries[group_countries.index =='HONG KONG']\n"
   ]
  },
  {
   "cell_type": "code",
   "execution_count": null,
   "metadata": {
    "collapsed": true
   },
   "outputs": [],
   "source": [
    "######## Plot 2 graphs in one figure"
   ]
  },
  {
   "cell_type": "code",
   "execution_count": null,
   "metadata": {
    "collapsed": true
   },
   "outputs": [],
   "source": [
    "# sort by highest value in import column\n",
    "gc_imp = group_countries.sort_values('Import', ascending=False)\n",
    "# get values of top ten in the import column\n",
    "m_imp = gc_imp.head(10)['Import'].values\n",
    "# get the country list of the top 10\n",
    "c_imp = gc_imp.head(10).index.tolist()\n",
    "# get list of numbers for c_imp\n",
    "y_imp = np.arange(len(c_imp))"
   ]
  },
  {
   "cell_type": "code",
   "execution_count": null,
   "metadata": {
    "collapsed": true
   },
   "outputs": [],
   "source": [
    "# sort by highest value in export column\n",
    "gc_exp = group_countries.sort_values('Export', ascending=False)\n",
    "# get values of top ten in the export column\n",
    "m_exp = gc_exp.head(10)['Export'].values\n",
    "# get the country list of the top 10\n",
    "c_exp = gc_exp.head(10).index.tolist()\n",
    "# get list of numbers for c_imp\n",
    "y_exp = np.arange(len(c_exp))"
   ]
  },
  {
   "cell_type": "code",
   "execution_count": null,
   "metadata": {},
   "outputs": [],
   "source": [
    "# Update the matplotlib configuration parameters:\n",
    "import matplotlib\n",
    "matplotlib.rcParams.update({'font.size': 18, 'font.family': 'serif'})\n",
    "%matplotlib inline\n",
    "fig = plt.figure()\n"
   ]
  },
  {
   "cell_type": "code",
   "execution_count": null,
   "metadata": {},
   "outputs": [],
   "source": [
    "# plotting for sub plots \n",
    "fig, axes = plt.subplots(nrows=2, ncols=1, figsize=(20,14))\n",
    "\n",
    "axes[0].bar(y_imp, m_imp,  width=0.5, alpha=0.5)\n",
    "axes[0].set_title(\"Top Importers\")\n",
    "axes[0].set_xticks(y_imp)\n",
    "axes[0].set_xticklabels(c_imp, fontsize=10)\n",
    "\n",
    "\n",
    "axes[1].bar(y_exp, m_imp, align=\"center\", width=0.5, alpha=0.5)\n",
    "axes[1].set_title(\"Top Exporter\")\n",
    "axes[1].set_xticks(y_exp)\n",
    "axes[1].set_xticklabels(c_exp, fontsize=10)\n",
    "\n",
    "fig.tight_layout()"
   ]
  },
  {
   "cell_type": "code",
   "execution_count": null,
   "metadata": {
    "collapsed": true
   },
   "outputs": [],
   "source": [
    "# save figure as png\n",
    "fig.savefig(\"top_imp_exp.png\") "
   ]
  },
  {
   "cell_type": "code",
   "execution_count": null,
   "metadata": {},
   "outputs": [],
   "source": [
    "exp_imp.head()"
   ]
  },
  {
   "cell_type": "code",
   "execution_count": null,
   "metadata": {
    "collapsed": true
   },
   "outputs": [],
   "source": [
    "# save data into excel\n",
    "group_countries.to_excel('malaysia_states.xlsx')"
   ]
  },
  {
   "cell_type": "code",
   "execution_count": null,
   "metadata": {
    "collapsed": true
   },
   "outputs": [],
   "source": [
    "# save data into csv\n",
    "exp_imp.to_csv('imp_exp.csv',index=False)"
   ]
  },
  {
   "cell_type": "code",
   "execution_count": null,
   "metadata": {
    "collapsed": true
   },
   "outputs": [],
   "source": []
  },
  {
   "cell_type": "code",
   "execution_count": null,
   "metadata": {
    "collapsed": true
   },
   "outputs": [],
   "source": []
  },
  {
   "cell_type": "code",
   "execution_count": null,
   "metadata": {
    "collapsed": true
   },
   "outputs": [],
   "source": []
  },
  {
   "cell_type": "code",
   "execution_count": null,
   "metadata": {
    "collapsed": true
   },
   "outputs": [],
   "source": [
    "#### scatter import export "
   ]
  },
  {
   "cell_type": "code",
   "execution_count": null,
   "metadata": {},
   "outputs": [],
   "source": [
    "exp_imp.head()"
   ]
  },
  {
   "cell_type": "code",
   "execution_count": null,
   "metadata": {},
   "outputs": [],
   "source": [
    "list(exp_imp['Month'])"
   ]
  },
  {
   "cell_type": "code",
   "execution_count": null,
   "metadata": {},
   "outputs": [],
   "source": [
    "type(exp_imp['Export'][5])"
   ]
  },
  {
   "cell_type": "code",
   "execution_count": null,
   "metadata": {
    "collapsed": true
   },
   "outputs": [],
   "source": [
    "month = exp_imp['Month'].values"
   ]
  },
  {
   "cell_type": "code",
   "execution_count": null,
   "metadata": {
    "collapsed": true
   },
   "outputs": [],
   "source": [
    "export = exp_imp['Export'].values\n",
    "mport = exp_imp['Import'].values "
   ]
  },
  {
   "cell_type": "code",
   "execution_count": null,
   "metadata": {},
   "outputs": [],
   "source": [
    "fig, axes = plt.subplots(nrows=1, ncols=1, figsize=(20,14))\n",
    "\n",
    "axes.scatter(month, export/1e9)\n",
    "axes.scatter(month,mport/1e9,c=\"r\")\n",
    "axes.set_title(\"Import Export\")\n",
    "axes.set_xticks(month)\n",
    "axes.set_xticklabels(month, fontsize=15)\n",
    "axes.set_xlabel('Month',fontsize=15)\n",
    "axes.set_ylabel('(USD) Billion',fontsize=15)\n",
    "\n",
    "fig.tight_layout()"
   ]
  },
  {
   "cell_type": "code",
   "execution_count": null,
   "metadata": {
    "collapsed": true
   },
   "outputs": [],
   "source": []
  },
  {
   "cell_type": "code",
   "execution_count": null,
   "metadata": {
    "collapsed": true
   },
   "outputs": [],
   "source": []
  },
  {
   "cell_type": "code",
   "execution_count": null,
   "metadata": {
    "collapsed": true
   },
   "outputs": [],
   "source": []
  },
  {
   "cell_type": "code",
   "execution_count": null,
   "metadata": {
    "collapsed": true
   },
   "outputs": [],
   "source": []
  },
  {
   "cell_type": "code",
   "execution_count": null,
   "metadata": {
    "collapsed": true
   },
   "outputs": [],
   "source": []
  },
  {
   "cell_type": "code",
   "execution_count": null,
   "metadata": {
    "collapsed": true
   },
   "outputs": [],
   "source": []
  },
  {
   "cell_type": "code",
   "execution_count": null,
   "metadata": {
    "collapsed": true
   },
   "outputs": [],
   "source": [
    "# plot for BOT all at once (messy)"
   ]
  },
  {
   "cell_type": "code",
   "execution_count": null,
   "metadata": {},
   "outputs": [],
   "source": [
    "# view list of countries by index\n",
    "group_countries.index.tolist()\n",
    "\n",
    "# obtain values  of BOT\n",
    "group_countries['BOT'].values\n",
    "\n",
    "# make list of countries and assign to variable \n",
    "countries = group_countries.index.tolist()\n",
    "# obtain number values for plotting \n",
    "no_countries = np.arange(len(countries))\n",
    "# obtain values for y axis\n",
    "BOT_val = group_countries['BOT'].values\n",
    "\n",
    "# change figure size \n",
    "plt.figure(figsize=(20,10))\n",
    "# plot bar graph\n",
    "plt.bar(no_countries, BOT_val, align='center', alpha=0.5)\n",
    "# label xticks with y_pos and replace them with the object list \n",
    "plt.xticks(no_countries, countries)\n",
    "# label\n",
    "plt.ylabel('USD')\n",
    "plt.title('BOT')\n",
    "plt.xlabel('Country')\n",
    "\n",
    "plt.show()"
   ]
  },
  {
   "cell_type": "code",
   "execution_count": null,
   "metadata": {},
   "outputs": [],
   "source": [
    "group_countries['BOT'].head().values"
   ]
  },
  {
   "cell_type": "code",
   "execution_count": null,
   "metadata": {},
   "outputs": [],
   "source": [
    "group_countries['BOT'].tail().values"
   ]
  },
  {
   "cell_type": "code",
   "execution_count": null,
   "metadata": {},
   "outputs": [],
   "source": [
    "group_countries.loc[group_countries[\"BOT\"].idxmin(5)]"
   ]
  },
  {
   "cell_type": "code",
   "execution_count": null,
   "metadata": {},
   "outputs": [],
   "source": [
    "largest_bot = group_countries.nlargest(5, columns=['BOT'])"
   ]
  },
  {
   "cell_type": "code",
   "execution_count": null,
   "metadata": {},
   "outputs": [],
   "source": [
    "smallest_bot = group_countries.nsmallest(5, columns=['BOT'])"
   ]
  },
  {
   "cell_type": "code",
   "execution_count": null,
   "metadata": {},
   "outputs": [],
   "source": [
    "all_dfs = [largest_bot,smallest_bot]\n"
   ]
  },
  {
   "cell_type": "code",
   "execution_count": null,
   "metadata": {},
   "outputs": [],
   "source": [
    "df = pd.concat(all_dfs)\n"
   ]
  },
  {
   "cell_type": "code",
   "execution_count": null,
   "metadata": {},
   "outputs": [],
   "source": [
    "# view list of countries by index\n",
    "df.index.tolist()\n",
    "\n",
    "# obtain values  of BOT\n",
    "df['BOT'].values\n",
    "\n",
    "# make list of countries and assign to variable \n",
    "countries = df.index.tolist()\n",
    "# obtain number values for plotting \n",
    "no_countries = np.arange(len(countries))\n",
    "# obtain values for y axis\n",
    "BOT_val = df['BOT'].values\n",
    "\n",
    "# change figure size \n",
    "plt.figure(figsize=(20,10))\n",
    "# plot bar graph\n",
    "plt.bar(no_countries, BOT_val/1e9, align='center', alpha=0.5)\n",
    "# label xticks with y_pos and replace them with the object list \n",
    "plt.xticks(no_countries, countries,size= 7)\n",
    "# label\n",
    "plt.ylabel('USD (Billion)')\n",
    "plt.title('BOT')\n",
    "plt.xlabel('Country')\n",
    "\n",
    "plt.show()"
   ]
  }
 ],
 "metadata": {
  "kernelspec": {
   "display_name": "Python 3",
   "language": "python",
   "name": "python3"
  },
  "language_info": {
   "codemirror_mode": {
    "name": "ipython",
    "version": 3
   },
   "file_extension": ".py",
   "mimetype": "text/x-python",
   "name": "python",
   "nbconvert_exporter": "python",
   "pygments_lexer": "ipython3",
   "version": "3.6.2"
  }
 },
 "nbformat": 4,
 "nbformat_minor": 2
}
